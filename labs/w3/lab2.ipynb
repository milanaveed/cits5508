{
 "cells": [
  {
   "cell_type": "markdown",
   "metadata": {},
   "source": [
    "# Get the Data\n"
   ]
  },
  {
   "cell_type": "markdown",
   "metadata": {},
   "source": [
    "## Load the Data\n"
   ]
  },
  {
   "cell_type": "code",
   "execution_count": 18,
   "metadata": {},
   "outputs": [],
   "source": [
    "from pathlib import Path\n",
    "import pandas as pd\n",
    "\n",
    "train_df = pd.read_csv(Path(\"training.csv\"))\n",
    "test_df = pd.read_csv(Path(\"testing.csv\"))"
   ]
  },
  {
   "cell_type": "markdown",
   "metadata": {},
   "source": [
    "## Take a quick look at the data structure\n"
   ]
  },
  {
   "cell_type": "code",
   "execution_count": 19,
   "metadata": {},
   "outputs": [
    {
     "name": "stdout",
     "output_type": "stream",
     "text": [
      "<class 'pandas.core.frame.DataFrame'>\n",
      "RangeIndex: 198 entries, 0 to 197\n",
      "Data columns (total 28 columns):\n",
      " #   Column               Non-Null Count  Dtype  \n",
      "---  ------               --------------  -----  \n",
      " 0   class                198 non-null    object \n",
      " 1   b1                   198 non-null    int64  \n",
      " 2   b2                   198 non-null    int64  \n",
      " 3   b3                   198 non-null    int64  \n",
      " 4   b4                   198 non-null    int64  \n",
      " 5   b5                   198 non-null    int64  \n",
      " 6   b6                   198 non-null    int64  \n",
      " 7   b7                   198 non-null    int64  \n",
      " 8   b8                   198 non-null    int64  \n",
      " 9   b9                   198 non-null    int64  \n",
      " 10  pred_minus_obs_H_b1  198 non-null    float64\n",
      " 11  pred_minus_obs_H_b2  198 non-null    float64\n",
      " 12  pred_minus_obs_H_b3  198 non-null    float64\n",
      " 13  pred_minus_obs_H_b4  198 non-null    float64\n",
      " 14  pred_minus_obs_H_b5  198 non-null    float64\n",
      " 15  pred_minus_obs_H_b6  198 non-null    float64\n",
      " 16  pred_minus_obs_H_b7  198 non-null    float64\n",
      " 17  pred_minus_obs_H_b8  198 non-null    float64\n",
      " 18  pred_minus_obs_H_b9  198 non-null    float64\n",
      " 19  pred_minus_obs_S_b1  198 non-null    float64\n",
      " 20  pred_minus_obs_S_b2  198 non-null    float64\n",
      " 21  pred_minus_obs_S_b3  198 non-null    float64\n",
      " 22  pred_minus_obs_S_b4  198 non-null    float64\n",
      " 23  pred_minus_obs_S_b5  198 non-null    float64\n",
      " 24  pred_minus_obs_S_b6  198 non-null    float64\n",
      " 25  pred_minus_obs_S_b7  198 non-null    float64\n",
      " 26  pred_minus_obs_S_b8  198 non-null    float64\n",
      " 27  pred_minus_obs_S_b9  198 non-null    float64\n",
      "dtypes: float64(18), int64(9), object(1)\n",
      "memory usage: 43.4+ KB\n"
     ]
    }
   ],
   "source": [
    "train_df.info()  # inspect what the columns are"
   ]
  },
  {
   "cell_type": "code",
   "execution_count": 20,
   "metadata": {},
   "outputs": [
    {
     "name": "stdout",
     "output_type": "stream",
     "text": [
      "<class 'pandas.core.frame.DataFrame'>\n",
      "RangeIndex: 325 entries, 0 to 324\n",
      "Data columns (total 28 columns):\n",
      " #   Column               Non-Null Count  Dtype  \n",
      "---  ------               --------------  -----  \n",
      " 0   class                325 non-null    object \n",
      " 1   b1                   325 non-null    int64  \n",
      " 2   b2                   325 non-null    int64  \n",
      " 3   b3                   325 non-null    int64  \n",
      " 4   b4                   325 non-null    int64  \n",
      " 5   b5                   325 non-null    int64  \n",
      " 6   b6                   325 non-null    int64  \n",
      " 7   b7                   325 non-null    int64  \n",
      " 8   b8                   325 non-null    int64  \n",
      " 9   b9                   325 non-null    int64  \n",
      " 10  pred_minus_obs_H_b1  325 non-null    float64\n",
      " 11  pred_minus_obs_H_b2  325 non-null    float64\n",
      " 12  pred_minus_obs_H_b3  325 non-null    float64\n",
      " 13  pred_minus_obs_H_b4  325 non-null    float64\n",
      " 14  pred_minus_obs_H_b5  325 non-null    float64\n",
      " 15  pred_minus_obs_H_b6  325 non-null    float64\n",
      " 16  pred_minus_obs_H_b7  325 non-null    float64\n",
      " 17  pred_minus_obs_H_b8  325 non-null    float64\n",
      " 18  pred_minus_obs_H_b9  325 non-null    float64\n",
      " 19  pred_minus_obs_S_b1  325 non-null    float64\n",
      " 20  pred_minus_obs_S_b2  325 non-null    float64\n",
      " 21  pred_minus_obs_S_b3  325 non-null    float64\n",
      " 22  pred_minus_obs_S_b4  325 non-null    float64\n",
      " 23  pred_minus_obs_S_b5  325 non-null    float64\n",
      " 24  pred_minus_obs_S_b6  325 non-null    float64\n",
      " 25  pred_minus_obs_S_b7  325 non-null    float64\n",
      " 26  pred_minus_obs_S_b8  325 non-null    float64\n",
      " 27  pred_minus_obs_S_b9  325 non-null    float64\n",
      "dtypes: float64(18), int64(9), object(1)\n",
      "memory usage: 71.2+ KB\n"
     ]
    }
   ],
   "source": [
    "test_df.info()"
   ]
  },
  {
   "cell_type": "markdown",
   "metadata": {},
   "source": [
    "## Remove columns with names starting with \"pred_minus_obs\"\n"
   ]
  },
  {
   "cell_type": "code",
   "execution_count": 21,
   "metadata": {},
   "outputs": [],
   "source": [
    "# to get the col names: df.columns\n",
    "# to find particular columns: df.columns.isin(columns_names)\n",
    "\n",
    "def remove_cols(df):\n",
    "    columns_to_drop = [\n",
    "        col for col in df.columns if col.startswith(\"pred_minus_obs\")]\n",
    "\n",
    "    return df.loc[:, ~df.columns.isin(columns_to_drop)]\n",
    "\n",
    "\n",
    "train_df = remove_cols(train_df)\n",
    "test_df = remove_cols(test_df)"
   ]
  },
  {
   "cell_type": "code",
   "execution_count": 22,
   "metadata": {},
   "outputs": [
    {
     "name": "stdout",
     "output_type": "stream",
     "text": [
      "<class 'pandas.core.frame.DataFrame'>\n",
      "RangeIndex: 198 entries, 0 to 197\n",
      "Data columns (total 10 columns):\n",
      " #   Column  Non-Null Count  Dtype \n",
      "---  ------  --------------  ----- \n",
      " 0   class   198 non-null    object\n",
      " 1   b1      198 non-null    int64 \n",
      " 2   b2      198 non-null    int64 \n",
      " 3   b3      198 non-null    int64 \n",
      " 4   b4      198 non-null    int64 \n",
      " 5   b5      198 non-null    int64 \n",
      " 6   b6      198 non-null    int64 \n",
      " 7   b7      198 non-null    int64 \n",
      " 8   b8      198 non-null    int64 \n",
      " 9   b9      198 non-null    int64 \n",
      "dtypes: int64(9), object(1)\n",
      "memory usage: 15.6+ KB\n"
     ]
    }
   ],
   "source": [
    "train_df.info()"
   ]
  },
  {
   "cell_type": "code",
   "execution_count": 23,
   "metadata": {},
   "outputs": [
    {
     "name": "stdout",
     "output_type": "stream",
     "text": [
      "<class 'pandas.core.frame.DataFrame'>\n",
      "RangeIndex: 325 entries, 0 to 324\n",
      "Data columns (total 10 columns):\n",
      " #   Column  Non-Null Count  Dtype \n",
      "---  ------  --------------  ----- \n",
      " 0   class   325 non-null    object\n",
      " 1   b1      325 non-null    int64 \n",
      " 2   b2      325 non-null    int64 \n",
      " 3   b3      325 non-null    int64 \n",
      " 4   b4      325 non-null    int64 \n",
      " 5   b5      325 non-null    int64 \n",
      " 6   b6      325 non-null    int64 \n",
      " 7   b7      325 non-null    int64 \n",
      " 8   b8      325 non-null    int64 \n",
      " 9   b9      325 non-null    int64 \n",
      "dtypes: int64(9), object(1)\n",
      "memory usage: 25.5+ KB\n"
     ]
    }
   ],
   "source": [
    "test_df.info()"
   ]
  },
  {
   "cell_type": "markdown",
   "metadata": {},
   "source": [
    "## Count the number of instances for each class label\n"
   ]
  },
  {
   "cell_type": "code",
   "execution_count": 24,
   "metadata": {},
   "outputs": [
    {
     "data": {
      "text/html": [
       "<div>\n",
       "<style scoped>\n",
       "    .dataframe tbody tr th:only-of-type {\n",
       "        vertical-align: middle;\n",
       "    }\n",
       "\n",
       "    .dataframe tbody tr th {\n",
       "        vertical-align: top;\n",
       "    }\n",
       "\n",
       "    .dataframe thead th {\n",
       "        text-align: right;\n",
       "    }\n",
       "</style>\n",
       "<table border=\"1\" class=\"dataframe\">\n",
       "  <thead>\n",
       "    <tr style=\"text-align: right;\">\n",
       "      <th></th>\n",
       "      <th>class</th>\n",
       "      <th>b1</th>\n",
       "      <th>b2</th>\n",
       "      <th>b3</th>\n",
       "      <th>b4</th>\n",
       "      <th>b5</th>\n",
       "      <th>b6</th>\n",
       "      <th>b7</th>\n",
       "      <th>b8</th>\n",
       "      <th>b9</th>\n",
       "    </tr>\n",
       "  </thead>\n",
       "  <tbody>\n",
       "    <tr>\n",
       "      <th>0</th>\n",
       "      <td>d</td>\n",
       "      <td>39</td>\n",
       "      <td>36</td>\n",
       "      <td>57</td>\n",
       "      <td>91</td>\n",
       "      <td>59</td>\n",
       "      <td>101</td>\n",
       "      <td>93</td>\n",
       "      <td>27</td>\n",
       "      <td>60</td>\n",
       "    </tr>\n",
       "    <tr>\n",
       "      <th>1</th>\n",
       "      <td>h</td>\n",
       "      <td>84</td>\n",
       "      <td>30</td>\n",
       "      <td>57</td>\n",
       "      <td>112</td>\n",
       "      <td>51</td>\n",
       "      <td>98</td>\n",
       "      <td>92</td>\n",
       "      <td>26</td>\n",
       "      <td>62</td>\n",
       "    </tr>\n",
       "    <tr>\n",
       "      <th>2</th>\n",
       "      <td>s</td>\n",
       "      <td>53</td>\n",
       "      <td>25</td>\n",
       "      <td>49</td>\n",
       "      <td>99</td>\n",
       "      <td>51</td>\n",
       "      <td>93</td>\n",
       "      <td>84</td>\n",
       "      <td>26</td>\n",
       "      <td>58</td>\n",
       "    </tr>\n",
       "    <tr>\n",
       "      <th>3</th>\n",
       "      <td>s</td>\n",
       "      <td>59</td>\n",
       "      <td>26</td>\n",
       "      <td>49</td>\n",
       "      <td>103</td>\n",
       "      <td>47</td>\n",
       "      <td>92</td>\n",
       "      <td>82</td>\n",
       "      <td>25</td>\n",
       "      <td>56</td>\n",
       "    </tr>\n",
       "    <tr>\n",
       "      <th>4</th>\n",
       "      <td>d</td>\n",
       "      <td>57</td>\n",
       "      <td>49</td>\n",
       "      <td>66</td>\n",
       "      <td>103</td>\n",
       "      <td>64</td>\n",
       "      <td>106</td>\n",
       "      <td>114</td>\n",
       "      <td>28</td>\n",
       "      <td>59</td>\n",
       "    </tr>\n",
       "    <tr>\n",
       "      <th>...</th>\n",
       "      <td>...</td>\n",
       "      <td>...</td>\n",
       "      <td>...</td>\n",
       "      <td>...</td>\n",
       "      <td>...</td>\n",
       "      <td>...</td>\n",
       "      <td>...</td>\n",
       "      <td>...</td>\n",
       "      <td>...</td>\n",
       "      <td>...</td>\n",
       "    </tr>\n",
       "    <tr>\n",
       "      <th>193</th>\n",
       "      <td>d</td>\n",
       "      <td>55</td>\n",
       "      <td>61</td>\n",
       "      <td>90</td>\n",
       "      <td>75</td>\n",
       "      <td>55</td>\n",
       "      <td>91</td>\n",
       "      <td>84</td>\n",
       "      <td>24</td>\n",
       "      <td>54</td>\n",
       "    </tr>\n",
       "    <tr>\n",
       "      <th>194</th>\n",
       "      <td>d</td>\n",
       "      <td>66</td>\n",
       "      <td>69</td>\n",
       "      <td>93</td>\n",
       "      <td>90</td>\n",
       "      <td>63</td>\n",
       "      <td>100</td>\n",
       "      <td>99</td>\n",
       "      <td>25</td>\n",
       "      <td>57</td>\n",
       "    </tr>\n",
       "    <tr>\n",
       "      <th>195</th>\n",
       "      <td>h</td>\n",
       "      <td>79</td>\n",
       "      <td>30</td>\n",
       "      <td>55</td>\n",
       "      <td>115</td>\n",
       "      <td>51</td>\n",
       "      <td>96</td>\n",
       "      <td>109</td>\n",
       "      <td>25</td>\n",
       "      <td>59</td>\n",
       "    </tr>\n",
       "    <tr>\n",
       "      <th>196</th>\n",
       "      <td>h</td>\n",
       "      <td>69</td>\n",
       "      <td>27</td>\n",
       "      <td>53</td>\n",
       "      <td>106</td>\n",
       "      <td>47</td>\n",
       "      <td>90</td>\n",
       "      <td>87</td>\n",
       "      <td>24</td>\n",
       "      <td>55</td>\n",
       "    </tr>\n",
       "    <tr>\n",
       "      <th>197</th>\n",
       "      <td>h</td>\n",
       "      <td>80</td>\n",
       "      <td>29</td>\n",
       "      <td>55</td>\n",
       "      <td>116</td>\n",
       "      <td>50</td>\n",
       "      <td>95</td>\n",
       "      <td>102</td>\n",
       "      <td>25</td>\n",
       "      <td>59</td>\n",
       "    </tr>\n",
       "  </tbody>\n",
       "</table>\n",
       "<p>198 rows × 10 columns</p>\n",
       "</div>"
      ],
      "text/plain": [
       "    class  b1  b2  b3   b4  b5   b6   b7  b8  b9\n",
       "0      d   39  36  57   91  59  101   93  27  60\n",
       "1      h   84  30  57  112  51   98   92  26  62\n",
       "2      s   53  25  49   99  51   93   84  26  58\n",
       "3      s   59  26  49  103  47   92   82  25  56\n",
       "4      d   57  49  66  103  64  106  114  28  59\n",
       "..    ...  ..  ..  ..  ...  ..  ...  ...  ..  ..\n",
       "193    d   55  61  90   75  55   91   84  24  54\n",
       "194    d   66  69  93   90  63  100   99  25  57\n",
       "195    h   79  30  55  115  51   96  109  25  59\n",
       "196    h   69  27  53  106  47   90   87  24  55\n",
       "197    h   80  29  55  116  50   95  102  25  59\n",
       "\n",
       "[198 rows x 10 columns]"
      ]
     },
     "execution_count": 24,
     "metadata": {},
     "output_type": "execute_result"
    }
   ],
   "source": [
    "train_df"
   ]
  },
  {
   "cell_type": "code",
   "execution_count": 25,
   "metadata": {},
   "outputs": [
    {
     "data": {
      "text/plain": [
       "0      d \n",
       "1      h \n",
       "2      s \n",
       "3      s \n",
       "4      d \n",
       "       ..\n",
       "193    d \n",
       "194    d \n",
       "195    h \n",
       "196    h \n",
       "197    h \n",
       "Name: class, Length: 198, dtype: object"
      ]
     },
     "execution_count": 25,
     "metadata": {},
     "output_type": "execute_result"
    }
   ],
   "source": [
    "# to access a certain column\n",
    "train_df.loc[:, 'class']"
   ]
  },
  {
   "cell_type": "code",
   "execution_count": 26,
   "metadata": {},
   "outputs": [
    {
     "data": {
      "text/plain": [
       "array(['d ', 'h ', 's ', 'o '], dtype=object)"
      ]
     },
     "execution_count": 26,
     "metadata": {},
     "output_type": "execute_result"
    }
   ],
   "source": [
    "train_df.loc[:, 'class'].unique()"
   ]
  },
  {
   "cell_type": "code",
   "execution_count": 27,
   "metadata": {},
   "outputs": [
    {
     "data": {
      "text/plain": [
       "class\n",
       "s     59\n",
       "d     54\n",
       "h     48\n",
       "o     37\n",
       "Name: count, dtype: int64"
      ]
     },
     "execution_count": 27,
     "metadata": {},
     "output_type": "execute_result"
    }
   ],
   "source": [
    "class_counts = train_df.loc[:, 'class'].value_counts()\n",
    "class_counts"
   ]
  },
  {
   "cell_type": "markdown",
   "metadata": {},
   "source": [
    "## See if we have an imbalanced training set\n"
   ]
  },
  {
   "cell_type": "code",
   "execution_count": 28,
   "metadata": {},
   "outputs": [
    {
     "name": "stdout",
     "output_type": "stream",
     "text": [
      "the dataset is balanced\n"
     ]
    }
   ],
   "source": [
    "class_proportions = class_counts/len(train_df)\n",
    "class_proportions\n",
    "\n",
    "imbalanced_threshold = 0.1\n",
    "imbalanced_classes = class_proportions[class_proportions <\n",
    "                                       imbalanced_threshold]\n",
    "if (len(imbalanced_classes) > 0):\n",
    "    print(\"the dataset is imbalanced\")\n",
    "    print(\"imbalanced classes:\")\n",
    "    print(imbalanced_classes)\n",
    "else:\n",
    "    print(\"the dataset is balanced\")"
   ]
  },
  {
   "cell_type": "code",
   "execution_count": 29,
   "metadata": {},
   "outputs": [
    {
     "data": {
      "text/plain": [
       "array([['d ', 39, 36, ..., 93, 27, 60],\n",
       "       ['h ', 84, 30, ..., 92, 26, 62],\n",
       "       ['s ', 53, 25, ..., 84, 26, 58],\n",
       "       ...,\n",
       "       ['h ', 79, 30, ..., 109, 25, 59],\n",
       "       ['h ', 69, 27, ..., 87, 24, 55],\n",
       "       ['h ', 80, 29, ..., 102, 25, 59]], dtype=object)"
      ]
     },
     "execution_count": 29,
     "metadata": {},
     "output_type": "execute_result"
    }
   ],
   "source": [
    "# to access all the values of the data frame\n",
    "train_df.values"
   ]
  },
  {
   "cell_type": "markdown",
   "metadata": {},
   "source": [
    "# Visualise data\n"
   ]
  },
  {
   "cell_type": "code",
   "execution_count": 30,
   "metadata": {},
   "outputs": [
    {
     "data": {
      "image/png": "[encoded data removed]",
      "text/plain": [
       "<Figure size 800x600 with 1 Axes>"
      ]
     },
     "metadata": {},
     "output_type": "display_data"
    }
   ],
   "source": [
    "import matplotlib.pyplot as plt\n",
    "\n",
    "plt.figure(figsize=(8, 6))\n",
    "plt.boxplot(train_df.values[:, 1:],\n",
    "            labels=train_df.columns[1:])\n",
    "plt.title('Boxplots of continuous variables')\n",
    "plt.xlabel('Variables')\n",
    "plt.ylabel('Values')\n",
    "plt.show()"
   ]
  },
  {
   "cell_type": "markdown",
   "metadata": {},
   "source": [
    "# Task 6: filter observations\n"
   ]
  },
  {
   "cell_type": "code",
   "execution_count": 31,
   "metadata": {},
   "outputs": [
    {
     "data": {
      "text/plain": [
       "0      d \n",
       "1      h \n",
       "2      s \n",
       "3      s \n",
       "4      d \n",
       "       ..\n",
       "193    d \n",
       "194    d \n",
       "195    h \n",
       "196    h \n",
       "197    h \n",
       "Name: class, Length: 198, dtype: object"
      ]
     },
     "execution_count": 31,
     "metadata": {},
     "output_type": "execute_result"
    }
   ],
   "source": [
    "train_df['class']"
   ]
  },
  {
   "cell_type": "code",
   "execution_count": 32,
   "metadata": {},
   "outputs": [
    {
     "data": {
      "text/plain": [
       "0      False\n",
       "1      False\n",
       "2      False\n",
       "3      False\n",
       "4      False\n",
       "       ...  \n",
       "193    False\n",
       "194    False\n",
       "195    False\n",
       "196    False\n",
       "197    False\n",
       "Name: class, Length: 198, dtype: bool"
      ]
     },
     "execution_count": 32,
     "metadata": {},
     "output_type": "execute_result"
    }
   ],
   "source": [
    "train_df['class'].isin(['s', 'd'])"
   ]
  },
  {
   "cell_type": "code",
   "execution_count": 33,
   "metadata": {},
   "outputs": [
    {
     "data": {
      "text/html": [
       "<div>\n",
       "<style scoped>\n",
       "    .dataframe tbody tr th:only-of-type {\n",
       "        vertical-align: middle;\n",
       "    }\n",
       "\n",
       "    .dataframe tbody tr th {\n",
       "        vertical-align: top;\n",
       "    }\n",
       "\n",
       "    .dataframe thead th {\n",
       "        text-align: right;\n",
       "    }\n",
       "</style>\n",
       "<table border=\"1\" class=\"dataframe\">\n",
       "  <thead>\n",
       "    <tr style=\"text-align: right;\">\n",
       "      <th></th>\n",
       "      <th>class</th>\n",
       "      <th>b1</th>\n",
       "      <th>b2</th>\n",
       "      <th>b3</th>\n",
       "      <th>b4</th>\n",
       "      <th>b5</th>\n",
       "      <th>b6</th>\n",
       "      <th>b7</th>\n",
       "      <th>b8</th>\n",
       "      <th>b9</th>\n",
       "    </tr>\n",
       "  </thead>\n",
       "  <tbody>\n",
       "    <tr>\n",
       "      <th>0</th>\n",
       "      <td>d</td>\n",
       "      <td>39</td>\n",
       "      <td>36</td>\n",
       "      <td>57</td>\n",
       "      <td>91</td>\n",
       "      <td>59</td>\n",
       "      <td>101</td>\n",
       "      <td>93</td>\n",
       "      <td>27</td>\n",
       "      <td>60</td>\n",
       "    </tr>\n",
       "    <tr>\n",
       "      <th>2</th>\n",
       "      <td>s</td>\n",
       "      <td>53</td>\n",
       "      <td>25</td>\n",
       "      <td>49</td>\n",
       "      <td>99</td>\n",
       "      <td>51</td>\n",
       "      <td>93</td>\n",
       "      <td>84</td>\n",
       "      <td>26</td>\n",
       "      <td>58</td>\n",
       "    </tr>\n",
       "    <tr>\n",
       "      <th>3</th>\n",
       "      <td>s</td>\n",
       "      <td>59</td>\n",
       "      <td>26</td>\n",
       "      <td>49</td>\n",
       "      <td>103</td>\n",
       "      <td>47</td>\n",
       "      <td>92</td>\n",
       "      <td>82</td>\n",
       "      <td>25</td>\n",
       "      <td>56</td>\n",
       "    </tr>\n",
       "    <tr>\n",
       "      <th>4</th>\n",
       "      <td>d</td>\n",
       "      <td>57</td>\n",
       "      <td>49</td>\n",
       "      <td>66</td>\n",
       "      <td>103</td>\n",
       "      <td>64</td>\n",
       "      <td>106</td>\n",
       "      <td>114</td>\n",
       "      <td>28</td>\n",
       "      <td>59</td>\n",
       "    </tr>\n",
       "    <tr>\n",
       "      <th>6</th>\n",
       "      <td>s</td>\n",
       "      <td>56</td>\n",
       "      <td>29</td>\n",
       "      <td>50</td>\n",
       "      <td>93</td>\n",
       "      <td>51</td>\n",
       "      <td>94</td>\n",
       "      <td>77</td>\n",
       "      <td>26</td>\n",
       "      <td>58</td>\n",
       "    </tr>\n",
       "    <tr>\n",
       "      <th>...</th>\n",
       "      <td>...</td>\n",
       "      <td>...</td>\n",
       "      <td>...</td>\n",
       "      <td>...</td>\n",
       "      <td>...</td>\n",
       "      <td>...</td>\n",
       "      <td>...</td>\n",
       "      <td>...</td>\n",
       "      <td>...</td>\n",
       "      <td>...</td>\n",
       "    </tr>\n",
       "    <tr>\n",
       "      <th>189</th>\n",
       "      <td>s</td>\n",
       "      <td>62</td>\n",
       "      <td>28</td>\n",
       "      <td>51</td>\n",
       "      <td>96</td>\n",
       "      <td>46</td>\n",
       "      <td>89</td>\n",
       "      <td>87</td>\n",
       "      <td>24</td>\n",
       "      <td>56</td>\n",
       "    </tr>\n",
       "    <tr>\n",
       "      <th>190</th>\n",
       "      <td>s</td>\n",
       "      <td>56</td>\n",
       "      <td>27</td>\n",
       "      <td>51</td>\n",
       "      <td>93</td>\n",
       "      <td>60</td>\n",
       "      <td>101</td>\n",
       "      <td>71</td>\n",
       "      <td>24</td>\n",
       "      <td>55</td>\n",
       "    </tr>\n",
       "    <tr>\n",
       "      <th>191</th>\n",
       "      <td>s</td>\n",
       "      <td>58</td>\n",
       "      <td>25</td>\n",
       "      <td>48</td>\n",
       "      <td>98</td>\n",
       "      <td>46</td>\n",
       "      <td>89</td>\n",
       "      <td>73</td>\n",
       "      <td>22</td>\n",
       "      <td>53</td>\n",
       "    </tr>\n",
       "    <tr>\n",
       "      <th>193</th>\n",
       "      <td>d</td>\n",
       "      <td>55</td>\n",
       "      <td>61</td>\n",
       "      <td>90</td>\n",
       "      <td>75</td>\n",
       "      <td>55</td>\n",
       "      <td>91</td>\n",
       "      <td>84</td>\n",
       "      <td>24</td>\n",
       "      <td>54</td>\n",
       "    </tr>\n",
       "    <tr>\n",
       "      <th>194</th>\n",
       "      <td>d</td>\n",
       "      <td>66</td>\n",
       "      <td>69</td>\n",
       "      <td>93</td>\n",
       "      <td>90</td>\n",
       "      <td>63</td>\n",
       "      <td>100</td>\n",
       "      <td>99</td>\n",
       "      <td>25</td>\n",
       "      <td>57</td>\n",
       "    </tr>\n",
       "  </tbody>\n",
       "</table>\n",
       "<p>113 rows × 10 columns</p>\n",
       "</div>"
      ],
      "text/plain": [
       "    class  b1  b2  b3   b4  b5   b6   b7  b8  b9\n",
       "0      d   39  36  57   91  59  101   93  27  60\n",
       "2      s   53  25  49   99  51   93   84  26  58\n",
       "3      s   59  26  49  103  47   92   82  25  56\n",
       "4      d   57  49  66  103  64  106  114  28  59\n",
       "6      s   56  29  50   93  51   94   77  26  58\n",
       "..    ...  ..  ..  ..  ...  ..  ...  ...  ..  ..\n",
       "189    s   62  28  51   96  46   89   87  24  56\n",
       "190    s   56  27  51   93  60  101   71  24  55\n",
       "191    s   58  25  48   98  46   89   73  22  53\n",
       "193    d   55  61  90   75  55   91   84  24  54\n",
       "194    d   66  69  93   90  63  100   99  25  57\n",
       "\n",
       "[113 rows x 10 columns]"
      ]
     },
     "execution_count": 33,
     "metadata": {},
     "output_type": "execute_result"
    }
   ],
   "source": [
    "# train_df['class']\n",
    "selected_train_df = train_df[train_df['class'].isin(['s ', 'd '])]\n",
    "selected_test_df = test_df[test_df['class'].isin(['s ', 'd '])]\n",
    "\n",
    "# selected_train_df = train_df[train_df['class'] == 's ']\n",
    "\n",
    "selected_train_df"
   ]
  },
  {
   "cell_type": "code",
   "execution_count": 34,
   "metadata": {},
   "outputs": [
    {
     "data": {
      "text/plain": [
       "113"
      ]
     },
     "execution_count": 34,
     "metadata": {},
     "output_type": "execute_result"
    }
   ],
   "source": [
    "# get the number of rows\n",
    "len(selected_train_df)"
   ]
  },
  {
   "cell_type": "markdown",
   "metadata": {},
   "source": [
    "# Task 7: train a binary classifier"
   ]
  },
  {
   "cell_type": "code",
   "execution_count": 40,
   "metadata": {},
   "outputs": [],
   "source": [
    "from sklearn.linear_model import LogisticRegression\n",
    "\n",
    "X_train = selected_train_df.iloc[:, 1:]  # select from the second column\n",
    "y_train_s = (selected_train_df['class'] == 's ')\n",
    "\n",
    "X_test = selected_test_df.iloc[:, 1:]\n",
    "y_test_s = (selected_test_df['class'] == 's ')\n",
    "\n",
    "classifier = LogisticRegression(max_iter=400, solver='lbfgs')\n",
    "classifier.fit(X_train, y_train_s)\n",
    "\n",
    "y_pred = classifier.predict(X_test)"
   ]
  },
  {
   "cell_type": "markdown",
   "metadata": {},
   "source": [
    "# Task 8"
   ]
  },
  {
   "cell_type": "markdown",
   "metadata": {},
   "source": [
    "## Accuracy"
   ]
  },
  {
   "cell_type": "code",
   "execution_count": 60,
   "metadata": {},
   "outputs": [
    {
     "data": {
      "text/plain": [
       "array([1., 1., 1.])"
      ]
     },
     "execution_count": 60,
     "metadata": {},
     "output_type": "execute_result"
    }
   ],
   "source": [
    "# measuring accuracy using cross-validation\n",
    "from sklearn.model_selection import cross_val_score\n",
    "\n",
    "cross_val_score(classifier, X_train, y_train_s, cv=3, scoring=\"accuracy\")"
   ]
  },
  {
   "cell_type": "code",
   "execution_count": 43,
   "metadata": {},
   "outputs": [
    {
     "data": {
      "text/plain": [
       "0      False\n",
       "2       True\n",
       "3       True\n",
       "4      False\n",
       "6       True\n",
       "       ...  \n",
       "189     True\n",
       "190     True\n",
       "191     True\n",
       "193    False\n",
       "194    False\n",
       "Name: class, Length: 113, dtype: bool"
      ]
     },
     "execution_count": 43,
     "metadata": {},
     "output_type": "execute_result"
    }
   ],
   "source": [
    "y_train_s"
   ]
  },
  {
   "cell_type": "markdown",
   "metadata": {},
   "source": [
    "## Confusion matrix"
   ]
  },
  {
   "cell_type": "code",
   "execution_count": null,
   "metadata": {},
   "outputs": [],
   "source": []
  },
  {
   "cell_type": "markdown",
   "metadata": {},
   "source": [
    "## Precision versus recall"
   ]
  },
  {
   "cell_type": "code",
   "execution_count": null,
   "metadata": {},
   "outputs": [],
   "source": []
  }
 ],
 "metadata": {
  "kernelspec": {
   "display_name": "cits5508-2024",
   "language": "python",
   "name": "python3"
  },
  "language_info": {
   "codemirror_mode": {
    "name": "ipython",
    "version": 3
   },
   "file_extension": ".py",
   "mimetype": "text/x-python",
   "name": "python",
   "nbconvert_exporter": "python",
   "pygments_lexer": "ipython3",
   "version": "3.11.8"
  }
 },
 "nbformat": 4,
 "nbformat_minor": 2
}
